{
 "cells": [
  {
   "cell_type": "code",
   "execution_count": 3,
   "metadata": {},
   "outputs": [
    {
     "data": {
      "text/plain": [
       "'d:\\\\Database_pythonK\\\\Chicago_Burglary'"
      ]
     },
     "execution_count": 3,
     "metadata": {},
     "output_type": "execute_result"
    }
   ],
   "source": [
    "pwd"
   ]
  },
  {
   "attachments": {},
   "cell_type": "markdown",
   "metadata": {},
   "source": [
    "## Data Terms of Use\n",
    "\n",
    "“This site provides applications using data that has been modified for use from its original source, www.cityofchicago.org, the official website of the City of Chicago.  \n",
    "The City of Chicago makes no claims as to the content, accuracy, timeliness, or completeness of any of the data provided at this site.  The data provided at this site is subject to change at any time.  \n",
    "It is understood that the data provided at this site is being used at one’s own risk.”"
   ]
  },
  {
   "attachments": {},
   "cell_type": "markdown",
   "metadata": {},
   "source": [
    "We will be exploring the City of Chicago's Crime \" Burglary\" data set, which is part of their Open Data initiative."
   ]
  },
  {
   "attachments": {},
   "cell_type": "markdown",
   "metadata": {},
   "source": [
    "# Analysis \n",
    "1- Fill out the doKMeans method to find and plot seven clusters and print out their centroids. These could be places a police officer investigates to check for on-going illegal activities.\n",
    "2- Re-run your assignment a few times over, looking at your printed and plotted results. Then answer the following questions.\n",
    "3- Note: If Pandas complains about your data, you can use dropna() on any row that has NANs in it"
   ]
  },
  {
   "cell_type": "code",
   "execution_count": 4,
   "metadata": {},
   "outputs": [],
   "source": [
    "import pandas as pd\n",
    "import matplotlib.pyplot as plt\n",
    "from sklearn.cluster import KMeans\n",
    "%matplotlib inline\n"
   ]
  },
  {
   "cell_type": "code",
   "execution_count": 5,
   "metadata": {},
   "outputs": [],
   "source": [
    "bg = pd.read_csv('Burglary_Crimes_2001_to_Present.csv', sep=',')"
   ]
  },
  {
   "cell_type": "code",
   "execution_count": 6,
   "metadata": {},
   "outputs": [
    {
     "data": {
      "text/html": [
       "<div>\n",
       "<style scoped>\n",
       "    .dataframe tbody tr th:only-of-type {\n",
       "        vertical-align: middle;\n",
       "    }\n",
       "\n",
       "    .dataframe tbody tr th {\n",
       "        vertical-align: top;\n",
       "    }\n",
       "\n",
       "    .dataframe thead th {\n",
       "        text-align: right;\n",
       "    }\n",
       "</style>\n",
       "<table border=\"1\" class=\"dataframe\">\n",
       "  <thead>\n",
       "    <tr style=\"text-align: right;\">\n",
       "      <th></th>\n",
       "      <th>ID</th>\n",
       "      <th>Case Number</th>\n",
       "      <th>Date</th>\n",
       "      <th>Block</th>\n",
       "      <th>IUCR</th>\n",
       "      <th>Primary Type</th>\n",
       "      <th>Description</th>\n",
       "      <th>Location Description</th>\n",
       "      <th>Arrest</th>\n",
       "      <th>Domestic</th>\n",
       "      <th>...</th>\n",
       "      <th>Ward</th>\n",
       "      <th>Community Area</th>\n",
       "      <th>FBI Code</th>\n",
       "      <th>X Coordinate</th>\n",
       "      <th>Y Coordinate</th>\n",
       "      <th>Year</th>\n",
       "      <th>Updated On</th>\n",
       "      <th>Latitude</th>\n",
       "      <th>Longitude</th>\n",
       "      <th>Location</th>\n",
       "    </tr>\n",
       "  </thead>\n",
       "  <tbody>\n",
       "    <tr>\n",
       "      <th>0</th>\n",
       "      <td>10224742</td>\n",
       "      <td>HY411435</td>\n",
       "      <td>9/5/2015 10:55</td>\n",
       "      <td>082XX S LOOMIS BLVD</td>\n",
       "      <td>610</td>\n",
       "      <td>BURGLARY</td>\n",
       "      <td>FORCIBLE ENTRY</td>\n",
       "      <td>RESIDENCE</td>\n",
       "      <td>False</td>\n",
       "      <td>False</td>\n",
       "      <td>...</td>\n",
       "      <td>21.0</td>\n",
       "      <td>71.0</td>\n",
       "      <td>5</td>\n",
       "      <td>1168430.0</td>\n",
       "      <td>1850165.0</td>\n",
       "      <td>2015</td>\n",
       "      <td>2/10/2018 15:50</td>\n",
       "      <td>41.744379</td>\n",
       "      <td>-87.658431</td>\n",
       "      <td>(41.744378879, -87.658430635)</td>\n",
       "    </tr>\n",
       "    <tr>\n",
       "      <th>1</th>\n",
       "      <td>10224743</td>\n",
       "      <td>HY411629</td>\n",
       "      <td>9/4/2015 18:00</td>\n",
       "      <td>021XX W CHURCHILL ST</td>\n",
       "      <td>620</td>\n",
       "      <td>BURGLARY</td>\n",
       "      <td>UNLAWFUL ENTRY</td>\n",
       "      <td>RESIDENCE-GARAGE</td>\n",
       "      <td>False</td>\n",
       "      <td>False</td>\n",
       "      <td>...</td>\n",
       "      <td>32.0</td>\n",
       "      <td>24.0</td>\n",
       "      <td>5</td>\n",
       "      <td>1161628.0</td>\n",
       "      <td>1912157.0</td>\n",
       "      <td>2015</td>\n",
       "      <td>2/10/2018 15:50</td>\n",
       "      <td>41.914636</td>\n",
       "      <td>-87.681631</td>\n",
       "      <td>(41.914635603, -87.681630909)</td>\n",
       "    </tr>\n",
       "    <tr>\n",
       "      <th>2</th>\n",
       "      <td>10224756</td>\n",
       "      <td>HY410094</td>\n",
       "      <td>7/8/2015 0:00</td>\n",
       "      <td>103XX S TORRENCE AVE</td>\n",
       "      <td>620</td>\n",
       "      <td>BURGLARY</td>\n",
       "      <td>UNLAWFUL ENTRY</td>\n",
       "      <td>OTHER</td>\n",
       "      <td>False</td>\n",
       "      <td>False</td>\n",
       "      <td>...</td>\n",
       "      <td>10.0</td>\n",
       "      <td>51.0</td>\n",
       "      <td>5</td>\n",
       "      <td>1195508.0</td>\n",
       "      <td>1836950.0</td>\n",
       "      <td>2015</td>\n",
       "      <td>2/10/2018 15:50</td>\n",
       "      <td>41.707490</td>\n",
       "      <td>-87.559650</td>\n",
       "      <td>(41.707490122, -87.559650325)</td>\n",
       "    </tr>\n",
       "  </tbody>\n",
       "</table>\n",
       "<p>3 rows × 22 columns</p>\n",
       "</div>"
      ],
      "text/plain": [
       "         ID Case Number            Date                 Block  IUCR  \\\n",
       "0  10224742    HY411435  9/5/2015 10:55   082XX S LOOMIS BLVD   610   \n",
       "1  10224743    HY411629  9/4/2015 18:00  021XX W CHURCHILL ST   620   \n",
       "2  10224756    HY410094   7/8/2015 0:00  103XX S TORRENCE AVE   620   \n",
       "\n",
       "  Primary Type     Description Location Description  Arrest  Domestic  ...  \\\n",
       "0     BURGLARY  FORCIBLE ENTRY            RESIDENCE   False     False  ...   \n",
       "1     BURGLARY  UNLAWFUL ENTRY     RESIDENCE-GARAGE   False     False  ...   \n",
       "2     BURGLARY  UNLAWFUL ENTRY                OTHER   False     False  ...   \n",
       "\n",
       "   Ward  Community Area  FBI Code  X Coordinate  Y Coordinate  Year  \\\n",
       "0  21.0            71.0         5     1168430.0     1850165.0  2015   \n",
       "1  32.0            24.0         5     1161628.0     1912157.0  2015   \n",
       "2  10.0            51.0         5     1195508.0     1836950.0  2015   \n",
       "\n",
       "        Updated On   Latitude  Longitude                       Location  \n",
       "0  2/10/2018 15:50  41.744379 -87.658431  (41.744378879, -87.658430635)  \n",
       "1  2/10/2018 15:50  41.914636 -87.681631  (41.914635603, -87.681630909)  \n",
       "2  2/10/2018 15:50  41.707490 -87.559650  (41.707490122, -87.559650325)  \n",
       "\n",
       "[3 rows x 22 columns]"
      ]
     },
     "execution_count": 6,
     "metadata": {},
     "output_type": "execute_result"
    }
   ],
   "source": [
    "bg.head(3)"
   ]
  },
  {
   "cell_type": "code",
   "execution_count": 7,
   "metadata": {},
   "outputs": [
    {
     "data": {
      "text/html": [
       "<div>\n",
       "<style scoped>\n",
       "    .dataframe tbody tr th:only-of-type {\n",
       "        vertical-align: middle;\n",
       "    }\n",
       "\n",
       "    .dataframe tbody tr th {\n",
       "        vertical-align: top;\n",
       "    }\n",
       "\n",
       "    .dataframe thead th {\n",
       "        text-align: right;\n",
       "    }\n",
       "</style>\n",
       "<table border=\"1\" class=\"dataframe\">\n",
       "  <thead>\n",
       "    <tr style=\"text-align: right;\">\n",
       "      <th></th>\n",
       "      <th>ID</th>\n",
       "      <th>IUCR</th>\n",
       "      <th>Beat</th>\n",
       "      <th>District</th>\n",
       "      <th>Ward</th>\n",
       "      <th>Community Area</th>\n",
       "      <th>FBI Code</th>\n",
       "      <th>X Coordinate</th>\n",
       "      <th>Y Coordinate</th>\n",
       "      <th>Year</th>\n",
       "      <th>Latitude</th>\n",
       "      <th>Longitude</th>\n",
       "    </tr>\n",
       "  </thead>\n",
       "  <tbody>\n",
       "    <tr>\n",
       "      <th>count</th>\n",
       "      <td>4.217370e+05</td>\n",
       "      <td>421737.000000</td>\n",
       "      <td>421737.000000</td>\n",
       "      <td>421734.000000</td>\n",
       "      <td>389259.000000</td>\n",
       "      <td>389177.000000</td>\n",
       "      <td>421737.0</td>\n",
       "      <td>4.201330e+05</td>\n",
       "      <td>4.201330e+05</td>\n",
       "      <td>421737.000000</td>\n",
       "      <td>420133.000000</td>\n",
       "      <td>420133.000000</td>\n",
       "    </tr>\n",
       "    <tr>\n",
       "      <th>mean</th>\n",
       "      <td>6.766652e+06</td>\n",
       "      <td>614.173454</td>\n",
       "      <td>1210.104162</td>\n",
       "      <td>11.554781</td>\n",
       "      <td>22.433937</td>\n",
       "      <td>39.003787</td>\n",
       "      <td>5.0</td>\n",
       "      <td>1.164752e+06</td>\n",
       "      <td>1.884125e+06</td>\n",
       "      <td>2009.317838</td>\n",
       "      <td>41.837632</td>\n",
       "      <td>-87.670995</td>\n",
       "    </tr>\n",
       "    <tr>\n",
       "      <th>std</th>\n",
       "      <td>3.220259e+06</td>\n",
       "      <td>7.111644</td>\n",
       "      <td>708.366854</td>\n",
       "      <td>7.025724</td>\n",
       "      <td>13.696140</td>\n",
       "      <td>22.214751</td>\n",
       "      <td>0.0</td>\n",
       "      <td>1.632465e+04</td>\n",
       "      <td>3.330347e+04</td>\n",
       "      <td>5.610892</td>\n",
       "      <td>0.091599</td>\n",
       "      <td>0.059279</td>\n",
       "    </tr>\n",
       "    <tr>\n",
       "      <th>min</th>\n",
       "      <td>1.310263e+06</td>\n",
       "      <td>610.000000</td>\n",
       "      <td>111.000000</td>\n",
       "      <td>1.000000</td>\n",
       "      <td>1.000000</td>\n",
       "      <td>1.000000</td>\n",
       "      <td>5.0</td>\n",
       "      <td>0.000000e+00</td>\n",
       "      <td>0.000000e+00</td>\n",
       "      <td>2001.000000</td>\n",
       "      <td>36.619446</td>\n",
       "      <td>-91.686566</td>\n",
       "    </tr>\n",
       "    <tr>\n",
       "      <th>25%</th>\n",
       "      <td>3.868676e+06</td>\n",
       "      <td>610.000000</td>\n",
       "      <td>623.000000</td>\n",
       "      <td>6.000000</td>\n",
       "      <td>10.000000</td>\n",
       "      <td>22.000000</td>\n",
       "      <td>5.0</td>\n",
       "      <td>1.153502e+06</td>\n",
       "      <td>1.856847e+06</td>\n",
       "      <td>2005.000000</td>\n",
       "      <td>41.762500</td>\n",
       "      <td>-87.711666</td>\n",
       "    </tr>\n",
       "    <tr>\n",
       "      <th>50%</th>\n",
       "      <td>6.933052e+06</td>\n",
       "      <td>610.000000</td>\n",
       "      <td>1021.000000</td>\n",
       "      <td>10.000000</td>\n",
       "      <td>21.000000</td>\n",
       "      <td>40.000000</td>\n",
       "      <td>5.0</td>\n",
       "      <td>1.165310e+06</td>\n",
       "      <td>1.879168e+06</td>\n",
       "      <td>2009.000000</td>\n",
       "      <td>41.823874</td>\n",
       "      <td>-87.668682</td>\n",
       "    </tr>\n",
       "    <tr>\n",
       "      <th>75%</th>\n",
       "      <td>9.283609e+06</td>\n",
       "      <td>620.000000</td>\n",
       "      <td>1811.000000</td>\n",
       "      <td>17.000000</td>\n",
       "      <td>34.000000</td>\n",
       "      <td>61.000000</td>\n",
       "      <td>5.0</td>\n",
       "      <td>1.176002e+06</td>\n",
       "      <td>1.913152e+06</td>\n",
       "      <td>2013.000000</td>\n",
       "      <td>41.917505</td>\n",
       "      <td>-87.630317</td>\n",
       "    </tr>\n",
       "    <tr>\n",
       "      <th>max</th>\n",
       "      <td>1.292367e+07</td>\n",
       "      <td>650.000000</td>\n",
       "      <td>2535.000000</td>\n",
       "      <td>31.000000</td>\n",
       "      <td>50.000000</td>\n",
       "      <td>77.000000</td>\n",
       "      <td>5.0</td>\n",
       "      <td>1.205119e+06</td>\n",
       "      <td>1.951573e+06</td>\n",
       "      <td>2022.000000</td>\n",
       "      <td>42.022710</td>\n",
       "      <td>-87.524529</td>\n",
       "    </tr>\n",
       "  </tbody>\n",
       "</table>\n",
       "</div>"
      ],
      "text/plain": [
       "                 ID           IUCR           Beat       District  \\\n",
       "count  4.217370e+05  421737.000000  421737.000000  421734.000000   \n",
       "mean   6.766652e+06     614.173454    1210.104162      11.554781   \n",
       "std    3.220259e+06       7.111644     708.366854       7.025724   \n",
       "min    1.310263e+06     610.000000     111.000000       1.000000   \n",
       "25%    3.868676e+06     610.000000     623.000000       6.000000   \n",
       "50%    6.933052e+06     610.000000    1021.000000      10.000000   \n",
       "75%    9.283609e+06     620.000000    1811.000000      17.000000   \n",
       "max    1.292367e+07     650.000000    2535.000000      31.000000   \n",
       "\n",
       "                Ward  Community Area  FBI Code  X Coordinate  Y Coordinate  \\\n",
       "count  389259.000000   389177.000000  421737.0  4.201330e+05  4.201330e+05   \n",
       "mean       22.433937       39.003787       5.0  1.164752e+06  1.884125e+06   \n",
       "std        13.696140       22.214751       0.0  1.632465e+04  3.330347e+04   \n",
       "min         1.000000        1.000000       5.0  0.000000e+00  0.000000e+00   \n",
       "25%        10.000000       22.000000       5.0  1.153502e+06  1.856847e+06   \n",
       "50%        21.000000       40.000000       5.0  1.165310e+06  1.879168e+06   \n",
       "75%        34.000000       61.000000       5.0  1.176002e+06  1.913152e+06   \n",
       "max        50.000000       77.000000       5.0  1.205119e+06  1.951573e+06   \n",
       "\n",
       "                Year       Latitude      Longitude  \n",
       "count  421737.000000  420133.000000  420133.000000  \n",
       "mean     2009.317838      41.837632     -87.670995  \n",
       "std         5.610892       0.091599       0.059279  \n",
       "min      2001.000000      36.619446     -91.686566  \n",
       "25%      2005.000000      41.762500     -87.711666  \n",
       "50%      2009.000000      41.823874     -87.668682  \n",
       "75%      2013.000000      41.917505     -87.630317  \n",
       "max      2022.000000      42.022710     -87.524529  "
      ]
     },
     "execution_count": 7,
     "metadata": {},
     "output_type": "execute_result"
    }
   ],
   "source": [
    "bg.describe()"
   ]
  },
  {
   "cell_type": "code",
   "execution_count": 8,
   "metadata": {},
   "outputs": [
    {
     "data": {
      "text/plain": [
       "Index(['ID', 'Case Number', 'Date', 'Block', 'IUCR', 'Primary Type',\n",
       "       'Description', 'Location Description', 'Arrest', 'Domestic', 'Beat',\n",
       "       'District', 'Ward', 'Community Area', 'FBI Code', 'X Coordinate',\n",
       "       'Y Coordinate', 'Year', 'Updated On', 'Latitude', 'Longitude',\n",
       "       'Location'],\n",
       "      dtype='object')"
      ]
     },
     "execution_count": 8,
     "metadata": {},
     "output_type": "execute_result"
    }
   ],
   "source": [
    "bg.columns"
   ]
  },
  {
   "cell_type": "code",
   "execution_count": 9,
   "metadata": {},
   "outputs": [
    {
     "data": {
      "text/plain": [
       "RangeIndex(start=0, stop=421737, step=1)"
      ]
     },
     "execution_count": 9,
     "metadata": {},
     "output_type": "execute_result"
    }
   ],
   "source": [
    "bg.index"
   ]
  },
  {
   "cell_type": "code",
   "execution_count": 10,
   "metadata": {},
   "outputs": [
    {
     "data": {
      "text/plain": [
       "ID                        int64\n",
       "Case Number              object\n",
       "Date                     object\n",
       "Block                    object\n",
       "IUCR                      int64\n",
       "Primary Type             object\n",
       "Description              object\n",
       "Location Description     object\n",
       "Arrest                     bool\n",
       "Domestic                   bool\n",
       "Beat                      int64\n",
       "District                float64\n",
       "Ward                    float64\n",
       "Community Area          float64\n",
       "FBI Code                  int64\n",
       "X Coordinate            float64\n",
       "Y Coordinate            float64\n",
       "Year                      int64\n",
       "Updated On               object\n",
       "Latitude                float64\n",
       "Longitude               float64\n",
       "Location                 object\n",
       "dtype: object"
      ]
     },
     "execution_count": 10,
     "metadata": {},
     "output_type": "execute_result"
    }
   ],
   "source": [
    "bg.dtypes"
   ]
  },
  {
   "attachments": {},
   "cell_type": "markdown",
   "metadata": {},
   "source": [
    "Let us get rid of any row that contains nans : # remove any row with nans"
   ]
  },
  {
   "cell_type": "code",
   "execution_count": 11,
   "metadata": {},
   "outputs": [
    {
     "data": {
      "text/html": [
       "<div>\n",
       "<style scoped>\n",
       "    .dataframe tbody tr th:only-of-type {\n",
       "        vertical-align: middle;\n",
       "    }\n",
       "\n",
       "    .dataframe tbody tr th {\n",
       "        vertical-align: top;\n",
       "    }\n",
       "\n",
       "    .dataframe thead th {\n",
       "        text-align: right;\n",
       "    }\n",
       "</style>\n",
       "<table border=\"1\" class=\"dataframe\">\n",
       "  <thead>\n",
       "    <tr style=\"text-align: right;\">\n",
       "      <th></th>\n",
       "      <th>ID</th>\n",
       "      <th>Case Number</th>\n",
       "      <th>Date</th>\n",
       "      <th>Block</th>\n",
       "      <th>IUCR</th>\n",
       "      <th>Primary Type</th>\n",
       "      <th>Description</th>\n",
       "      <th>Location Description</th>\n",
       "      <th>Arrest</th>\n",
       "      <th>Domestic</th>\n",
       "      <th>...</th>\n",
       "      <th>Ward</th>\n",
       "      <th>Community Area</th>\n",
       "      <th>FBI Code</th>\n",
       "      <th>X Coordinate</th>\n",
       "      <th>Y Coordinate</th>\n",
       "      <th>Year</th>\n",
       "      <th>Updated On</th>\n",
       "      <th>Latitude</th>\n",
       "      <th>Longitude</th>\n",
       "      <th>Location</th>\n",
       "    </tr>\n",
       "  </thead>\n",
       "  <tbody>\n",
       "    <tr>\n",
       "      <th>0</th>\n",
       "      <td>10224742</td>\n",
       "      <td>HY411435</td>\n",
       "      <td>9/5/2015 10:55</td>\n",
       "      <td>082XX S LOOMIS BLVD</td>\n",
       "      <td>610</td>\n",
       "      <td>BURGLARY</td>\n",
       "      <td>FORCIBLE ENTRY</td>\n",
       "      <td>RESIDENCE</td>\n",
       "      <td>False</td>\n",
       "      <td>False</td>\n",
       "      <td>...</td>\n",
       "      <td>21.0</td>\n",
       "      <td>71.0</td>\n",
       "      <td>5</td>\n",
       "      <td>1168430.0</td>\n",
       "      <td>1850165.0</td>\n",
       "      <td>2015</td>\n",
       "      <td>2/10/2018 15:50</td>\n",
       "      <td>41.744379</td>\n",
       "      <td>-87.658431</td>\n",
       "      <td>(41.744378879, -87.658430635)</td>\n",
       "    </tr>\n",
       "    <tr>\n",
       "      <th>1</th>\n",
       "      <td>10224743</td>\n",
       "      <td>HY411629</td>\n",
       "      <td>9/4/2015 18:00</td>\n",
       "      <td>021XX W CHURCHILL ST</td>\n",
       "      <td>620</td>\n",
       "      <td>BURGLARY</td>\n",
       "      <td>UNLAWFUL ENTRY</td>\n",
       "      <td>RESIDENCE-GARAGE</td>\n",
       "      <td>False</td>\n",
       "      <td>False</td>\n",
       "      <td>...</td>\n",
       "      <td>32.0</td>\n",
       "      <td>24.0</td>\n",
       "      <td>5</td>\n",
       "      <td>1161628.0</td>\n",
       "      <td>1912157.0</td>\n",
       "      <td>2015</td>\n",
       "      <td>2/10/2018 15:50</td>\n",
       "      <td>41.914636</td>\n",
       "      <td>-87.681631</td>\n",
       "      <td>(41.914635603, -87.681630909)</td>\n",
       "    </tr>\n",
       "    <tr>\n",
       "      <th>2</th>\n",
       "      <td>10224756</td>\n",
       "      <td>HY410094</td>\n",
       "      <td>7/8/2015 0:00</td>\n",
       "      <td>103XX S TORRENCE AVE</td>\n",
       "      <td>620</td>\n",
       "      <td>BURGLARY</td>\n",
       "      <td>UNLAWFUL ENTRY</td>\n",
       "      <td>OTHER</td>\n",
       "      <td>False</td>\n",
       "      <td>False</td>\n",
       "      <td>...</td>\n",
       "      <td>10.0</td>\n",
       "      <td>51.0</td>\n",
       "      <td>5</td>\n",
       "      <td>1195508.0</td>\n",
       "      <td>1836950.0</td>\n",
       "      <td>2015</td>\n",
       "      <td>2/10/2018 15:50</td>\n",
       "      <td>41.707490</td>\n",
       "      <td>-87.559650</td>\n",
       "      <td>(41.707490122, -87.559650325)</td>\n",
       "    </tr>\n",
       "    <tr>\n",
       "      <th>3</th>\n",
       "      <td>10224757</td>\n",
       "      <td>HY411388</td>\n",
       "      <td>9/5/2015 9:55</td>\n",
       "      <td>088XX S PAULINA ST</td>\n",
       "      <td>610</td>\n",
       "      <td>BURGLARY</td>\n",
       "      <td>FORCIBLE ENTRY</td>\n",
       "      <td>RESIDENCE</td>\n",
       "      <td>True</td>\n",
       "      <td>False</td>\n",
       "      <td>...</td>\n",
       "      <td>21.0</td>\n",
       "      <td>71.0</td>\n",
       "      <td>5</td>\n",
       "      <td>1166554.0</td>\n",
       "      <td>1846067.0</td>\n",
       "      <td>2015</td>\n",
       "      <td>2/10/2018 15:50</td>\n",
       "      <td>41.733174</td>\n",
       "      <td>-87.665421</td>\n",
       "      <td>(41.733173536, -87.665421067)</td>\n",
       "    </tr>\n",
       "    <tr>\n",
       "      <th>4</th>\n",
       "      <td>10224773</td>\n",
       "      <td>HY411685</td>\n",
       "      <td>9/5/2015 7:00</td>\n",
       "      <td>029XX W FIFTH AVE</td>\n",
       "      <td>620</td>\n",
       "      <td>BURGLARY</td>\n",
       "      <td>UNLAWFUL ENTRY</td>\n",
       "      <td>APARTMENT</td>\n",
       "      <td>False</td>\n",
       "      <td>False</td>\n",
       "      <td>...</td>\n",
       "      <td>2.0</td>\n",
       "      <td>27.0</td>\n",
       "      <td>5</td>\n",
       "      <td>1156926.0</td>\n",
       "      <td>1899592.0</td>\n",
       "      <td>2015</td>\n",
       "      <td>2/10/2018 15:50</td>\n",
       "      <td>41.880253</td>\n",
       "      <td>-87.699247</td>\n",
       "      <td>(41.880252868, -87.69924661)</td>\n",
       "    </tr>\n",
       "    <tr>\n",
       "      <th>...</th>\n",
       "      <td>...</td>\n",
       "      <td>...</td>\n",
       "      <td>...</td>\n",
       "      <td>...</td>\n",
       "      <td>...</td>\n",
       "      <td>...</td>\n",
       "      <td>...</td>\n",
       "      <td>...</td>\n",
       "      <td>...</td>\n",
       "      <td>...</td>\n",
       "      <td>...</td>\n",
       "      <td>...</td>\n",
       "      <td>...</td>\n",
       "      <td>...</td>\n",
       "      <td>...</td>\n",
       "      <td>...</td>\n",
       "      <td>...</td>\n",
       "      <td>...</td>\n",
       "      <td>...</td>\n",
       "      <td>...</td>\n",
       "      <td>...</td>\n",
       "    </tr>\n",
       "    <tr>\n",
       "      <th>421732</th>\n",
       "      <td>12758715</td>\n",
       "      <td>JF314608</td>\n",
       "      <td>6/1/2022 0:00</td>\n",
       "      <td>121XX S PRINCETON AVE</td>\n",
       "      <td>620</td>\n",
       "      <td>BURGLARY</td>\n",
       "      <td>UNLAWFUL ENTRY</td>\n",
       "      <td>RESIDENCE</td>\n",
       "      <td>False</td>\n",
       "      <td>False</td>\n",
       "      <td>...</td>\n",
       "      <td>34.0</td>\n",
       "      <td>53.0</td>\n",
       "      <td>5</td>\n",
       "      <td>1176473.0</td>\n",
       "      <td>1824340.0</td>\n",
       "      <td>2022</td>\n",
       "      <td>11/12/2022 15:46</td>\n",
       "      <td>41.673335</td>\n",
       "      <td>-87.629733</td>\n",
       "      <td>(41.673334568, -87.629733426)</td>\n",
       "    </tr>\n",
       "    <tr>\n",
       "      <th>421733</th>\n",
       "      <td>12744372</td>\n",
       "      <td>JF296932</td>\n",
       "      <td>6/28/2022 0:00</td>\n",
       "      <td>031XX N LARAMIE AVE</td>\n",
       "      <td>610</td>\n",
       "      <td>BURGLARY</td>\n",
       "      <td>FORCIBLE ENTRY</td>\n",
       "      <td>SMALL RETAIL STORE</td>\n",
       "      <td>False</td>\n",
       "      <td>False</td>\n",
       "      <td>...</td>\n",
       "      <td>30.0</td>\n",
       "      <td>19.0</td>\n",
       "      <td>5</td>\n",
       "      <td>1141159.0</td>\n",
       "      <td>1920198.0</td>\n",
       "      <td>2022</td>\n",
       "      <td>11/12/2022 15:46</td>\n",
       "      <td>41.937103</td>\n",
       "      <td>-87.756633</td>\n",
       "      <td>(41.93710313, -87.756633218)</td>\n",
       "    </tr>\n",
       "    <tr>\n",
       "      <th>421734</th>\n",
       "      <td>12760697</td>\n",
       "      <td>JF316944</td>\n",
       "      <td>7/14/2022 3:30</td>\n",
       "      <td>007XX W OAKDALE AVE</td>\n",
       "      <td>620</td>\n",
       "      <td>BURGLARY</td>\n",
       "      <td>UNLAWFUL ENTRY</td>\n",
       "      <td>APARTMENT</td>\n",
       "      <td>False</td>\n",
       "      <td>False</td>\n",
       "      <td>...</td>\n",
       "      <td>44.0</td>\n",
       "      <td>6.0</td>\n",
       "      <td>5</td>\n",
       "      <td>1170600.0</td>\n",
       "      <td>1919863.0</td>\n",
       "      <td>2022</td>\n",
       "      <td>11/12/2022 15:46</td>\n",
       "      <td>41.935589</td>\n",
       "      <td>-87.648443</td>\n",
       "      <td>(41.935589428, -87.648443084)</td>\n",
       "    </tr>\n",
       "    <tr>\n",
       "      <th>421735</th>\n",
       "      <td>12757403</td>\n",
       "      <td>JF313058</td>\n",
       "      <td>6/7/2022 3:21</td>\n",
       "      <td>009XX W LAKE ST</td>\n",
       "      <td>620</td>\n",
       "      <td>BURGLARY</td>\n",
       "      <td>UNLAWFUL ENTRY</td>\n",
       "      <td>SMALL RETAIL STORE</td>\n",
       "      <td>False</td>\n",
       "      <td>False</td>\n",
       "      <td>...</td>\n",
       "      <td>27.0</td>\n",
       "      <td>28.0</td>\n",
       "      <td>5</td>\n",
       "      <td>1170148.0</td>\n",
       "      <td>1901646.0</td>\n",
       "      <td>2022</td>\n",
       "      <td>11/12/2022 15:46</td>\n",
       "      <td>41.885611</td>\n",
       "      <td>-87.650637</td>\n",
       "      <td>(41.88561086, -87.650637071)</td>\n",
       "    </tr>\n",
       "    <tr>\n",
       "      <th>421736</th>\n",
       "      <td>12761468</td>\n",
       "      <td>JF318038</td>\n",
       "      <td>7/14/2022 18:00</td>\n",
       "      <td>075XX S KENWOOD AVE</td>\n",
       "      <td>620</td>\n",
       "      <td>BURGLARY</td>\n",
       "      <td>UNLAWFUL ENTRY</td>\n",
       "      <td>APARTMENT</td>\n",
       "      <td>False</td>\n",
       "      <td>False</td>\n",
       "      <td>...</td>\n",
       "      <td>5.0</td>\n",
       "      <td>43.0</td>\n",
       "      <td>5</td>\n",
       "      <td>1186520.0</td>\n",
       "      <td>1855196.0</td>\n",
       "      <td>2022</td>\n",
       "      <td>11/12/2022 15:46</td>\n",
       "      <td>41.757776</td>\n",
       "      <td>-87.591989</td>\n",
       "      <td>(41.757775974, -87.591988549)</td>\n",
       "    </tr>\n",
       "  </tbody>\n",
       "</table>\n",
       "<p>387833 rows × 22 columns</p>\n",
       "</div>"
      ],
      "text/plain": [
       "              ID Case Number             Date                  Block  IUCR  \\\n",
       "0       10224742    HY411435   9/5/2015 10:55    082XX S LOOMIS BLVD   610   \n",
       "1       10224743    HY411629   9/4/2015 18:00   021XX W CHURCHILL ST   620   \n",
       "2       10224756    HY410094    7/8/2015 0:00   103XX S TORRENCE AVE   620   \n",
       "3       10224757    HY411388    9/5/2015 9:55     088XX S PAULINA ST   610   \n",
       "4       10224773    HY411685    9/5/2015 7:00      029XX W FIFTH AVE   620   \n",
       "...          ...         ...              ...                    ...   ...   \n",
       "421732  12758715    JF314608    6/1/2022 0:00  121XX S PRINCETON AVE   620   \n",
       "421733  12744372    JF296932   6/28/2022 0:00    031XX N LARAMIE AVE   610   \n",
       "421734  12760697    JF316944   7/14/2022 3:30    007XX W OAKDALE AVE   620   \n",
       "421735  12757403    JF313058    6/7/2022 3:21        009XX W LAKE ST   620   \n",
       "421736  12761468    JF318038  7/14/2022 18:00    075XX S KENWOOD AVE   620   \n",
       "\n",
       "       Primary Type     Description Location Description  Arrest  Domestic  \\\n",
       "0          BURGLARY  FORCIBLE ENTRY            RESIDENCE   False     False   \n",
       "1          BURGLARY  UNLAWFUL ENTRY     RESIDENCE-GARAGE   False     False   \n",
       "2          BURGLARY  UNLAWFUL ENTRY                OTHER   False     False   \n",
       "3          BURGLARY  FORCIBLE ENTRY            RESIDENCE    True     False   \n",
       "4          BURGLARY  UNLAWFUL ENTRY            APARTMENT   False     False   \n",
       "...             ...             ...                  ...     ...       ...   \n",
       "421732     BURGLARY  UNLAWFUL ENTRY            RESIDENCE   False     False   \n",
       "421733     BURGLARY  FORCIBLE ENTRY   SMALL RETAIL STORE   False     False   \n",
       "421734     BURGLARY  UNLAWFUL ENTRY            APARTMENT   False     False   \n",
       "421735     BURGLARY  UNLAWFUL ENTRY   SMALL RETAIL STORE   False     False   \n",
       "421736     BURGLARY  UNLAWFUL ENTRY            APARTMENT   False     False   \n",
       "\n",
       "        ...  Ward  Community Area  FBI Code  X Coordinate  Y Coordinate  Year  \\\n",
       "0       ...  21.0            71.0         5     1168430.0     1850165.0  2015   \n",
       "1       ...  32.0            24.0         5     1161628.0     1912157.0  2015   \n",
       "2       ...  10.0            51.0         5     1195508.0     1836950.0  2015   \n",
       "3       ...  21.0            71.0         5     1166554.0     1846067.0  2015   \n",
       "4       ...   2.0            27.0         5     1156926.0     1899592.0  2015   \n",
       "...     ...   ...             ...       ...           ...           ...   ...   \n",
       "421732  ...  34.0            53.0         5     1176473.0     1824340.0  2022   \n",
       "421733  ...  30.0            19.0         5     1141159.0     1920198.0  2022   \n",
       "421734  ...  44.0             6.0         5     1170600.0     1919863.0  2022   \n",
       "421735  ...  27.0            28.0         5     1170148.0     1901646.0  2022   \n",
       "421736  ...   5.0            43.0         5     1186520.0     1855196.0  2022   \n",
       "\n",
       "              Updated On   Latitude  Longitude                       Location  \n",
       "0        2/10/2018 15:50  41.744379 -87.658431  (41.744378879, -87.658430635)  \n",
       "1        2/10/2018 15:50  41.914636 -87.681631  (41.914635603, -87.681630909)  \n",
       "2        2/10/2018 15:50  41.707490 -87.559650  (41.707490122, -87.559650325)  \n",
       "3        2/10/2018 15:50  41.733174 -87.665421  (41.733173536, -87.665421067)  \n",
       "4        2/10/2018 15:50  41.880253 -87.699247   (41.880252868, -87.69924661)  \n",
       "...                  ...        ...        ...                            ...  \n",
       "421732  11/12/2022 15:46  41.673335 -87.629733  (41.673334568, -87.629733426)  \n",
       "421733  11/12/2022 15:46  41.937103 -87.756633   (41.93710313, -87.756633218)  \n",
       "421734  11/12/2022 15:46  41.935589 -87.648443  (41.935589428, -87.648443084)  \n",
       "421735  11/12/2022 15:46  41.885611 -87.650637   (41.88561086, -87.650637071)  \n",
       "421736  11/12/2022 15:46  41.757776 -87.591989  (41.757775974, -87.591988549)  \n",
       "\n",
       "[387833 rows x 22 columns]"
      ]
     },
     "execution_count": 11,
     "metadata": {},
     "output_type": "execute_result"
    }
   ],
   "source": [
    "bg.dropna(axis=0)"
   ]
  },
  {
   "cell_type": "code",
   "execution_count": 12,
   "metadata": {},
   "outputs": [
    {
     "data": {
      "text/plain": [
       "ID                        int64\n",
       "Case Number              object\n",
       "Date                     object\n",
       "Block                    object\n",
       "IUCR                      int64\n",
       "Primary Type             object\n",
       "Description              object\n",
       "Location Description     object\n",
       "Arrest                     bool\n",
       "Domestic                   bool\n",
       "Beat                      int64\n",
       "District                float64\n",
       "Ward                    float64\n",
       "Community Area          float64\n",
       "FBI Code                  int64\n",
       "X Coordinate            float64\n",
       "Y Coordinate            float64\n",
       "Year                      int64\n",
       "Updated On               object\n",
       "Latitude                float64\n",
       "Longitude               float64\n",
       "Location                 object\n",
       "dtype: object"
      ]
     },
     "execution_count": 12,
     "metadata": {},
     "output_type": "execute_result"
    }
   ],
   "source": [
    "bg.dtypes"
   ]
  },
  {
   "attachments": {},
   "cell_type": "markdown",
   "metadata": {},
   "source": [
    "Coerce the `Date` feature (which is currently a string object) into real date"
   ]
  },
  {
   "cell_type": "code",
   "execution_count": 13,
   "metadata": {},
   "outputs": [],
   "source": [
    "bg.Date = pd.to_datetime(bg.Date, errors='coerce')"
   ]
  },
  {
   "attachments": {},
   "cell_type": "markdown",
   "metadata": {},
   "source": [
    "Display the `dtypes` "
   ]
  },
  {
   "cell_type": "code",
   "execution_count": 14,
   "metadata": {},
   "outputs": [
    {
     "data": {
      "text/plain": [
       "ID                               int64\n",
       "Case Number                     object\n",
       "Date                    datetime64[ns]\n",
       "Block                           object\n",
       "IUCR                             int64\n",
       "Primary Type                    object\n",
       "Description                     object\n",
       "Location Description            object\n",
       "Arrest                            bool\n",
       "Domestic                          bool\n",
       "Beat                             int64\n",
       "District                       float64\n",
       "Ward                           float64\n",
       "Community Area                 float64\n",
       "FBI Code                         int64\n",
       "X Coordinate                   float64\n",
       "Y Coordinate                   float64\n",
       "Year                             int64\n",
       "Updated On                      object\n",
       "Latitude                       float64\n",
       "Longitude                      float64\n",
       "Location                        object\n",
       "dtype: object"
      ]
     },
     "execution_count": 14,
     "metadata": {},
     "output_type": "execute_result"
    }
   ],
   "source": [
    "bg.dtypes"
   ]
  },
  {
   "cell_type": "code",
   "execution_count": 15,
   "metadata": {},
   "outputs": [],
   "source": [
    "def UseKMean(bg,centroids):\n",
    "    # Let's plot your data with a '.' marker, a 0.4 alpha at the Longitude,\n",
    "    # and Latitude locations in your dataset. Longitude = x, Latitude = y\n",
    "    fig = plt.figure()\n",
    "    plt.scatter(centroids[:,0], centroids[:,1], marker='x', c='red', alpha=0.4, linewidths=3, s=169, label='Centroids')\n",
    "    plt.scatter(bg.Longitude, bg.Latitude, marker='.', alpha=0.4, label='Data points')\n",
    "    plt.title('Chicago Burglary Crimes since 2001', c='red')\n",
    "    plt.xlabel('Longitude',c='green')\n",
    "    plt.ylabel('Latitude', c='violet')\n",
    "    plt.legend()  \n"
   ]
  },
  {
   "cell_type": "code",
   "execution_count": 16,
   "metadata": {},
   "outputs": [],
   "source": [
    "bg= bg.filter(items=['Longitude', 'Latitude'])"
   ]
  },
  {
   "cell_type": "code",
   "execution_count": 17,
   "metadata": {},
   "outputs": [
    {
     "name": "stdout",
     "output_type": "stream",
     "text": [
      "        Longitude   Latitude\n",
      "0      -87.658431  41.744379\n",
      "1      -87.681631  41.914636\n",
      "2      -87.559650  41.707490\n",
      "3      -87.665421  41.733174\n",
      "4      -87.699247  41.880253\n",
      "...           ...        ...\n",
      "421732 -87.629733  41.673335\n",
      "421733 -87.756633  41.937103\n",
      "421734 -87.648443  41.935589\n",
      "421735 -87.650637  41.885611\n",
      "421736 -87.591989  41.757776\n",
      "\n",
      "[421737 rows x 2 columns]\n"
     ]
    }
   ],
   "source": [
    "print(bg)"
   ]
  },
  {
   "cell_type": "code",
   "execution_count": 18,
   "metadata": {},
   "outputs": [],
   "source": [
    "bg.dropna(axis=0, inplace =True)"
   ]
  },
  {
   "cell_type": "code",
   "execution_count": 19,
   "metadata": {},
   "outputs": [],
   "source": [
    "bg=bg.head(50)"
   ]
  },
  {
   "cell_type": "code",
   "execution_count": 20,
   "metadata": {},
   "outputs": [
    {
     "name": "stdout",
     "output_type": "stream",
     "text": [
      "    Longitude   Latitude\n",
      "0  -87.658431  41.744379\n",
      "1  -87.681631  41.914636\n",
      "2  -87.559650  41.707490\n",
      "3  -87.665421  41.733174\n",
      "4  -87.699247  41.880253\n",
      "5  -87.619013  41.694444\n",
      "6  -87.751896  41.969801\n",
      "7  -87.664607  41.926116\n",
      "8  -87.782871  41.995264\n",
      "9  -87.670846  41.800627\n",
      "10 -87.727114  41.936594\n",
      "11 -87.638092  41.671453\n",
      "12 -87.562412  41.740273\n",
      "13 -87.601124  41.749500\n",
      "14 -87.671705  41.906697\n",
      "15 -87.645185  41.843048\n",
      "16 -87.601106  41.749503\n",
      "17 -87.624026  41.792342\n",
      "18 -87.596516  41.653732\n",
      "19 -87.629683  41.713879\n",
      "20 -87.570948  41.716545\n",
      "22 -87.687537  41.921697\n",
      "23 -87.560092  41.747335\n",
      "24 -87.664050  41.773167\n",
      "25 -87.704829  41.882808\n",
      "26 -87.682684  41.832989\n",
      "27 -87.642310  41.852701\n",
      "28 -87.731496  41.784983\n",
      "29 -87.695696  41.823677\n",
      "30 -87.834206  41.950735\n",
      "31 -87.713899  41.855807\n",
      "32 -87.692297  41.996753\n",
      "33 -87.692715  41.997680\n",
      "34 -87.692297  41.996772\n",
      "35 -87.652272  41.871372\n",
      "36 -87.709925  41.756550\n",
      "37 -87.660456  41.967186\n",
      "39 -87.641610  41.808934\n",
      "40 -87.667562  41.753944\n",
      "41 -87.663416  41.871674\n",
      "42 -87.667599  41.753944\n",
      "43 -87.724863  41.943314\n",
      "44 -87.545595  41.727563\n",
      "45 -87.628050  41.891136\n",
      "46 -87.739926  41.928618\n",
      "47 -87.569858  41.717638\n",
      "48 -87.574029  41.718314\n",
      "49 -87.572752  41.718851\n",
      "50 -87.723526  41.852536\n",
      "51 -87.644659  41.756095\n"
     ]
    }
   ],
   "source": [
    "print(bg)"
   ]
  },
  {
   "attachments": {},
   "cell_type": "markdown",
   "metadata": {},
   "source": [
    " I will use K-Means to try and find six cluster centers in this bg. I will call my kmeans model `burglary`."
   ]
  },
  {
   "cell_type": "code",
   "execution_count": 21,
   "metadata": {},
   "outputs": [],
   "source": [
    "burglary= KMeans(n_clusters=6)"
   ]
  },
  {
   "cell_type": "code",
   "execution_count": 22,
   "metadata": {},
   "outputs": [
    {
     "data": {
      "text/plain": [
       "KMeans(n_clusters=6)"
      ]
     },
     "execution_count": 22,
     "metadata": {},
     "output_type": "execute_result"
    }
   ],
   "source": [
    "burglary.fit(bg)"
   ]
  },
  {
   "cell_type": "code",
   "execution_count": 23,
   "metadata": {},
   "outputs": [],
   "source": [
    "labels=burglary.predict(bg)"
   ]
  },
  {
   "attachments": {},
   "cell_type": "markdown",
   "metadata": {},
   "source": [
    "I can print and plot the centroids now :"
   ]
  },
  {
   "cell_type": "code",
   "execution_count": 24,
   "metadata": {},
   "outputs": [],
   "source": [
    "centroids = burglary.cluster_centers_"
   ]
  },
  {
   "cell_type": "code",
   "execution_count": 25,
   "metadata": {},
   "outputs": [
    {
     "name": "stdout",
     "output_type": "stream",
     "text": [
      "[[-87.68444133  41.98959785]\n",
      " [-87.6603648   41.76361428]\n",
      " [-87.58577645  41.71618   ]\n",
      " [-87.7601461   41.95405435]\n",
      " [-87.66956027  41.89190903]\n",
      " [-87.69476157  41.82766674]]\n"
     ]
    }
   ],
   "source": [
    "print(centroids) "
   ]
  },
  {
   "attachments": {},
   "cell_type": "markdown",
   "metadata": {},
   "source": [
    "# Print & Plot your data"
   ]
  },
  {
   "cell_type": "code",
   "execution_count": 26,
   "metadata": {},
   "outputs": [
    {
     "data": {
      "image/png": "[encoded data removed]",
      "text/plain": [
       "<Figure size 640x480 with 1 Axes>"
      ]
     },
     "metadata": {},
     "output_type": "display_data"
    }
   ],
   "source": [
    "UseKMean(bg,centroids)"
   ]
  },
  {
   "cell_type": "code",
   "execution_count": 27,
   "metadata": {},
   "outputs": [],
   "source": [
    "bg= bg.filter(items=['Date'> '2011-01-01'])"
   ]
  },
  {
   "cell_type": "code",
   "execution_count": 28,
   "metadata": {},
   "outputs": [
    {
     "name": "stdout",
     "output_type": "stream",
     "text": [
      "Empty DataFrame\n",
      "Columns: []\n",
      "Index: [0, 1, 2, 3, 4, 5, 6, 7, 8, 9, 10, 11, 12, 13, 14, 15, 16, 17, 18, 19, 20, 22, 23, 24, 25, 26, 27, 28, 29, 30, 31, 32, 33, 34, 35, 36, 37, 39, 40, 41, 42, 43, 44, 45, 46, 47, 48, 49, 50, 51] [[-87.68444133  41.98959785]\n",
      " [-87.6603648   41.76361428]\n",
      " [-87.58577645  41.71618   ]\n",
      " [-87.7601461   41.95405435]\n",
      " [-87.66956027  41.89190903]\n",
      " [-87.69476157  41.82766674]]\n"
     ]
    }
   ],
   "source": [
    "print(bg,centroids)"
   ]
  }
 ],
 "metadata": {
  "kernelspec": {
   "display_name": "base",
   "language": "python",
   "name": "python3"
  },
  "language_info": {
   "codemirror_mode": {
    "name": "ipython",
    "version": 3
   },
   "file_extension": ".py",
   "mimetype": "text/x-python",
   "name": "python",
   "nbconvert_exporter": "python",
   "pygments_lexer": "ipython3",
   "version": "3.9.13"
  },
  "orig_nbformat": 4,
  "vscode": {
   "interpreter": {
    "hash": "45dc0d9dc0a6511335b7382c138c962a4e4f5a501bcb9f0063ee1ff974b84aae"
   }
  }
 },
 "nbformat": 4,
 "nbformat_minor": 2
}
